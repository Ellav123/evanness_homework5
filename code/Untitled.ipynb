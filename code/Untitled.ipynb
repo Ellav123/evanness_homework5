{
 "cells": [
  {
   "cell_type": "markdown",
   "id": "5bb89606-a0ee-467e-b3a7-45616aae38db",
   "metadata": {},
   "source": [
    "# Project Name"
   ]
  },
  {
   "cell_type": "markdown",
   "id": "998bdb78-7a8d-48a4-a4f6-2e7cb53efede",
   "metadata": {},
   "source": [
    "**Author** Ella VanNess"
   ]
  },
  {
   "cell_type": "markdown",
   "id": "ac3a01b5-6f1b-4161-967c-c61ea709a82d",
   "metadata": {},
   "source": [
    "**Last modified** 11-13-2024 (created 11-13-2024)\n"
   ]
  },
  {
   "cell_type": "markdown",
   "id": "3b22b1bb-dadc-4222-af1e-20a9c84cd89a",
   "metadata": {},
   "source": [
    "\n",
    "**Decription** Shoort paragraph repplacing this project"
   ]
  },
  {
   "cell_type": "code",
   "execution_count": 6,
   "id": "f3735db5-c514-4de8-a1b2-e557e5768c46",
   "metadata": {},
   "outputs": [],
   "source": [
    "# import libraries:\n",
    "import pandas as pd\n"
   ]
  },
  {
   "cell_type": "code",
   "execution_count": 7,
   "id": "64cf8caf-87c6-4072-9b0c-0f2fcfb1a86e",
   "metadata": {},
   "outputs": [],
   "source": [
    "# Load data:"
   ]
  },
  {
   "cell_type": "code",
   "execution_count": 8,
   "id": "c99de00c-4b3f-4228-9be1-000e044d46a6",
   "metadata": {},
   "outputs": [],
   "source": [
    "#Code to read csv file"
   ]
  },
  {
   "cell_type": "code",
   "execution_count": null,
   "id": "711b83db-3614-4e66-9e0a-4cea11db97a5",
   "metadata": {},
   "outputs": [],
   "source": []
  },
  {
   "cell_type": "code",
   "execution_count": null,
   "id": "35ce2c07-b076-49b9-a92a-c3e6ee2c3912",
   "metadata": {},
   "outputs": [],
   "source": []
  }
 ],
 "metadata": {
  "kernelspec": {
   "display_name": "Python 3 (ipykernel)",
   "language": "python",
   "name": "python3"
  },
  "language_info": {
   "codemirror_mode": {
    "name": "ipython",
    "version": 3
   },
   "file_extension": ".py",
   "mimetype": "text/x-python",
   "name": "python",
   "nbconvert_exporter": "python",
   "pygments_lexer": "ipython3",
   "version": "3.12.4"
  }
 },
 "nbformat": 4,
 "nbformat_minor": 5
}
